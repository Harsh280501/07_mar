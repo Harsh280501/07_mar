{
 "cells": [
  {
   "cell_type": "code",
   "execution_count": 18,
   "id": "077ba59a-efa0-4fee-a8cb-817add7800f6",
   "metadata": {},
   "outputs": [],
   "source": [
    "import numpy as np\n",
    "import pandas as pd"
   ]
  },
  {
   "cell_type": "markdown",
   "id": "9815e89c-c6e9-49c6-91d3-f364964952c7",
   "metadata": {},
   "source": [
    "Q1. What are the three measures of central tendency?"
   ]
  },
  {
   "cell_type": "markdown",
   "id": "ee0d54fa-6e65-4982-ad4b-563df230e770",
   "metadata": {},
   "source": [
    "The three measure of central tendency is \n",
    "\n",
    "1) mean\n",
    "\n",
    "2) mode \n",
    "\n",
    "3) median "
   ]
  },
  {
   "cell_type": "markdown",
   "id": "2fafd9ee-6097-4889-a9f9-b9a47bed3798",
   "metadata": {},
   "source": [
    "Q2. What is the difference between the mean, median, and mode? How are they used to measure the\n",
    "central tendency of a dataset?"
   ]
  },
  {
   "cell_type": "markdown",
   "id": "fc1b101c-84aa-43a2-b951-f6ae14ff2806",
   "metadata": {},
   "source": [
    "1) mean :- Its the average of the values present in the columns\n",
    "\n",
    "2) mode :- It is the most value represented in the column\n",
    "\n",
    "3) median : - It represent the mid value of the column"
   ]
  },
  {
   "cell_type": "code",
   "execution_count": null,
   "id": "ccaeaa4a-9e56-45fe-9f52-93e25a93e12b",
   "metadata": {},
   "outputs": [],
   "source": []
  },
  {
   "cell_type": "markdown",
   "id": "e7f93fc9-5c9d-4a79-b934-0978c81cddcf",
   "metadata": {},
   "source": [
    "Q3. Measure the three measures of central tendency for the given height data:\n",
    "[178,177,176,177,178.2,178,175,179,180,175,178.9,176.2,177,172.5,178,176.5]"
   ]
  },
  {
   "cell_type": "code",
   "execution_count": 19,
   "id": "163dca6c-a922-4017-a597-fe16c6b2781f",
   "metadata": {},
   "outputs": [],
   "source": [
    "arr = pd.Series([178,177,176,177,178.2,178,175,179,180,175,178.9,176.2,177,172.5,178,176.5])"
   ]
  },
  {
   "cell_type": "code",
   "execution_count": 20,
   "id": "ae5933f8-1cf1-4a22-952b-e29c852818f8",
   "metadata": {},
   "outputs": [
    {
     "data": {
      "text/plain": [
       "0     178.0\n",
       "1     177.0\n",
       "2     176.0\n",
       "3     177.0\n",
       "4     178.2\n",
       "5     178.0\n",
       "6     175.0\n",
       "7     179.0\n",
       "8     180.0\n",
       "9     175.0\n",
       "10    178.9\n",
       "11    176.2\n",
       "12    177.0\n",
       "13    172.5\n",
       "14    178.0\n",
       "15    176.5\n",
       "dtype: float64"
      ]
     },
     "execution_count": 20,
     "metadata": {},
     "output_type": "execute_result"
    }
   ],
   "source": [
    "arr"
   ]
  },
  {
   "cell_type": "code",
   "execution_count": 21,
   "id": "29a5bf6a-4f53-42a2-be82-bdedda4d33b3",
   "metadata": {},
   "outputs": [
    {
     "data": {
      "text/plain": [
       "177.01875"
      ]
     },
     "execution_count": 21,
     "metadata": {},
     "output_type": "execute_result"
    }
   ],
   "source": [
    "np.mean([178,177,176,177,178.2,178,175,179,180,175,178.9,176.2,177,172.5,178,176.5])"
   ]
  },
  {
   "cell_type": "code",
   "execution_count": 22,
   "id": "18643b90-f3f8-44b7-b8e1-3ed324f98682",
   "metadata": {},
   "outputs": [
    {
     "data": {
      "text/plain": [
       "177.0"
      ]
     },
     "execution_count": 22,
     "metadata": {},
     "output_type": "execute_result"
    }
   ],
   "source": [
    "np.median([178,177,176,177,178.2,178,175,179,180,175,178.9,176.2,177,172.5,178,176.5])"
   ]
  },
  {
   "cell_type": "code",
   "execution_count": 23,
   "id": "9e3ef298-3141-4b73-a7b0-79af82d31f7a",
   "metadata": {},
   "outputs": [
    {
     "data": {
      "text/plain": [
       "0    177.0\n",
       "1    178.0\n",
       "dtype: float64"
      ]
     },
     "execution_count": 23,
     "metadata": {},
     "output_type": "execute_result"
    }
   ],
   "source": [
    "arr.mode()"
   ]
  },
  {
   "cell_type": "code",
   "execution_count": null,
   "id": "f17d13fa-00f0-4f55-863e-b221f932c188",
   "metadata": {},
   "outputs": [],
   "source": []
  },
  {
   "cell_type": "markdown",
   "id": "236e4fdf-c4d3-4d9b-b979-0bb2b4fa4421",
   "metadata": {},
   "source": [
    "Q4. Find the standard deviation for the given data:\n",
    "[178,177,176,177,178.2,178,175,179,180,175,178.9,176.2,177,172.5,178,176.5]"
   ]
  },
  {
   "cell_type": "code",
   "execution_count": 24,
   "id": "4c05c3ba-062a-44df-888f-3631d71657d8",
   "metadata": {},
   "outputs": [
    {
     "data": {
      "text/plain": [
       "1.847238930584419"
      ]
     },
     "execution_count": 24,
     "metadata": {},
     "output_type": "execute_result"
    }
   ],
   "source": [
    "arr.std()"
   ]
  },
  {
   "cell_type": "code",
   "execution_count": null,
   "id": "69bb0b2c-deae-4167-a7c6-25d9ad965293",
   "metadata": {},
   "outputs": [],
   "source": []
  },
  {
   "cell_type": "markdown",
   "id": "86b181f8-6e05-4883-9b04-cc07fb34fa41",
   "metadata": {},
   "source": [
    "Q5. How are measures of dispersion such as range, variance, and standard deviation used to describe\n",
    "the spread of a dataset? Provide an example."
   ]
  },
  {
   "cell_type": "markdown",
   "id": "13c5eb3a-410d-4ee5-a0bf-88dbd70912ef",
   "metadata": {},
   "source": [
    "The range is the easiest dispersion of data or measure of variability. The range can measure by subtracting the lowest value from the massive Number. The wide range indicates high variability, and the small range specifies low variability in the distribution."
   ]
  },
  {
   "cell_type": "markdown",
   "id": "f7f79152-a42a-4c7c-8dcf-e8cad01dc6fe",
   "metadata": {},
   "source": [
    "Variance is a simple measure of dispersion. Variance measures how far each number in the dataset from the mean. To compute variance first, calculate the mean and squared deviations from a mean."
   ]
  },
  {
   "cell_type": "markdown",
   "id": "00479e86-25c4-44ae-9e70-40a065b6d3e6",
   "metadata": {},
   "source": [
    "Standard deviation is a squared root of the variance to get original values. Low standard deviation indicates data points close to mean."
   ]
  },
  {
   "cell_type": "code",
   "execution_count": null,
   "id": "163b8d52-3ca2-4f70-96dd-0b1463f0d067",
   "metadata": {},
   "outputs": [],
   "source": []
  },
  {
   "cell_type": "markdown",
   "id": "274bfbd3-c69f-4edb-8d1e-4cb1e3c53b40",
   "metadata": {},
   "source": [
    "Q6. What is a Venn diagram?"
   ]
  },
  {
   "cell_type": "markdown",
   "id": "cddff73e-2586-4847-b240-d33d6fa08e09",
   "metadata": {},
   "source": [
    "A Venn diagram is a schematic representation of the elements in a set or a group. It is a diagram that shows all the possible logical relationships between a finite assemblage of sets or groups. It is also referred to as a set diagram or logic diagram."
   ]
  },
  {
   "cell_type": "code",
   "execution_count": null,
   "id": "724a6e7e-b861-4223-b1bb-cf61509bd7cd",
   "metadata": {},
   "outputs": [],
   "source": []
  },
  {
   "cell_type": "markdown",
   "id": "12a95a2e-2110-4471-8fcc-08616464daa9",
   "metadata": {},
   "source": [
    "Q7. For the two given sets A = (2,3,4,5,6,7) & B = (0,2,6,8,10). Find:\n",
    "\n",
    "(i) A B\n",
    "\n",
    "(ii) A ⋃ B"
   ]
  },
  {
   "cell_type": "code",
   "execution_count": 28,
   "id": "22b1e0ae-657b-420f-ab1b-6e6ffff8e401",
   "metadata": {},
   "outputs": [],
   "source": [
    "arr_a = np.array([2,3,4,5,6,7])\n",
    "arr_b = np.array([0,2,6,8,10])"
   ]
  },
  {
   "cell_type": "code",
   "execution_count": 31,
   "id": "705b0473-2b9b-49a9-b377-19971f8e7ed6",
   "metadata": {},
   "outputs": [],
   "source": [
    "arr = np.intersect1d(arr_a,arr_b)\n",
    "\n",
    "arr_union = np.union1d(arr_a,arr_b)"
   ]
  },
  {
   "cell_type": "code",
   "execution_count": 30,
   "id": "239667cf-791b-4d14-84bc-b11357ff7181",
   "metadata": {},
   "outputs": [
    {
     "data": {
      "text/plain": [
       "array([2, 6])"
      ]
     },
     "execution_count": 30,
     "metadata": {},
     "output_type": "execute_result"
    }
   ],
   "source": [
    "arr"
   ]
  },
  {
   "cell_type": "code",
   "execution_count": 32,
   "id": "362b082b-2d32-40a3-a446-5b18d7d47539",
   "metadata": {},
   "outputs": [
    {
     "data": {
      "text/plain": [
       "array([ 0,  2,  3,  4,  5,  6,  7,  8, 10])"
      ]
     },
     "execution_count": 32,
     "metadata": {},
     "output_type": "execute_result"
    }
   ],
   "source": [
    "arr_union"
   ]
  },
  {
   "cell_type": "code",
   "execution_count": null,
   "id": "089a1de0-4dff-47e2-9901-2694a07f333a",
   "metadata": {},
   "outputs": [],
   "source": []
  },
  {
   "cell_type": "markdown",
   "id": "4d2615ee-20cb-486f-a04b-42565d8a355a",
   "metadata": {},
   "source": [
    "Q8. What do you understand about skewness in data?"
   ]
  },
  {
   "cell_type": "markdown",
   "id": "b737597a-a69e-4442-a3b8-0528df7a345b",
   "metadata": {},
   "source": [
    "Skewness describes how much statistical data distribution is asymmetrical from the normal distribution, where distribution is equally divided on each side. If a distribution is not symmetrical or normal, it is skewed, i.e., the frequency distribution skewed to the left or right."
   ]
  },
  {
   "cell_type": "code",
   "execution_count": null,
   "id": "1edf415d-0f27-4b65-8d1b-25fda86dbe61",
   "metadata": {},
   "outputs": [],
   "source": []
  },
  {
   "cell_type": "markdown",
   "id": "16cc2971-26fb-4d82-95d4-5f8bc2597831",
   "metadata": {},
   "source": [
    "Q9. If a data is right skewed then what will be the position of median with respect to mean?"
   ]
  },
  {
   "cell_type": "markdown",
   "id": "8855dc2a-200d-4ef6-8ba4-699bdef0898d",
   "metadata": {},
   "source": [
    " skewness of the data distribution is on the right; it causes the mean to be greater than the median and eventually move to the right. Also, the mode occurs at the highest frequency of the distribution, which is on the left side of the median. Therefore, the measure of central tendencies is mode < median < mean"
   ]
  },
  {
   "cell_type": "code",
   "execution_count": null,
   "id": "d52f3f95-7e0f-4a8f-a374-601a7143a55a",
   "metadata": {},
   "outputs": [],
   "source": []
  },
  {
   "cell_type": "markdown",
   "id": "3f036faa-2b3f-4338-a3e4-b54616d237cd",
   "metadata": {},
   "source": [
    "Q10. Explain the difference between covariance and correlation. How are these measures used in\n",
    "statistical analysis?"
   ]
  },
  {
   "cell_type": "markdown",
   "id": "70cdc840-23e9-44fb-8344-087ea1a4f2c1",
   "metadata": {},
   "source": [
    "Covariance indicates the extent of the variable being dependent on each other. Higher value denotes higher dependency.\n",
    "\n",
    "Correlation signifies the strength of association between the variables when the other things are constant."
   ]
  },
  {
   "cell_type": "code",
   "execution_count": null,
   "id": "d460ea05-dd08-4883-a14e-dac4676a0c39",
   "metadata": {},
   "outputs": [],
   "source": []
  },
  {
   "cell_type": "markdown",
   "id": "2466b410-4334-4018-aeb6-f315e3ef59e0",
   "metadata": {},
   "source": [
    "Q11. What is the formula for calculating the sample mean? Provide an example calculation for a\n",
    "dataset."
   ]
  },
  {
   "cell_type": "markdown",
   "id": "260a56e5-79ba-4a62-b413-52c411bc5017",
   "metadata": {},
   "source": [
    "Calculating sample mean is as simple as adding up the number of items in a sample set and then dividing that sum by the number of items in the sample set. \n",
    " x̄ = (Σ xi) / n"
   ]
  },
  {
   "cell_type": "code",
   "execution_count": 33,
   "id": "cccc1ac4-f2fa-4381-84d3-669272714761",
   "metadata": {},
   "outputs": [],
   "source": [
    "sample = np.array([1,5,2,1,5,7,8,4,2,1])\n",
    "\n",
    "sum = 1+5+2+1+5+7+8+4+2+1"
   ]
  },
  {
   "cell_type": "code",
   "execution_count": 34,
   "id": "c56674ec-1e7c-4880-a46c-cf7fa2c0274c",
   "metadata": {},
   "outputs": [],
   "source": [
    "mean = sum/len(sample)"
   ]
  },
  {
   "cell_type": "code",
   "execution_count": 35,
   "id": "f1f1820b-5027-4b04-901e-be6653f962d3",
   "metadata": {},
   "outputs": [
    {
     "data": {
      "text/plain": [
       "3.6"
      ]
     },
     "execution_count": 35,
     "metadata": {},
     "output_type": "execute_result"
    }
   ],
   "source": [
    "mean"
   ]
  },
  {
   "cell_type": "code",
   "execution_count": null,
   "id": "d47cc0fd-72f0-4956-ae88-2ea005457190",
   "metadata": {},
   "outputs": [],
   "source": []
  },
  {
   "cell_type": "markdown",
   "id": "63540b77-aa96-43e2-b1e7-91b485c070a2",
   "metadata": {},
   "source": [
    "Q12. For a normal distribution data what is the relationship between its measure of central tendency?"
   ]
  },
  {
   "cell_type": "markdown",
   "id": "267fbb71-3a2a-48a0-b6bc-167e8f2500a6",
   "metadata": {},
   "source": [
    "In the Normal Distribution, Mean, Median and Mode are equal \n",
    "\n",
    "mean = median = mode"
   ]
  },
  {
   "cell_type": "code",
   "execution_count": null,
   "id": "4db75258-feee-49dc-acd5-aca100ade5c4",
   "metadata": {},
   "outputs": [],
   "source": []
  },
  {
   "cell_type": "markdown",
   "id": "28481e39-0fe4-4ba9-9267-0f51a2a3f87c",
   "metadata": {},
   "source": [
    "Q13. How is covariance different from correlation?"
   ]
  },
  {
   "cell_type": "markdown",
   "id": "62fab9a0-fa55-4ddf-83f2-89b298fa5cac",
   "metadata": {},
   "source": [
    "Covariance is a measure which shows the extent to which two random variables change in tandem. Correlation gives the indication of how variables are related"
   ]
  },
  {
   "cell_type": "code",
   "execution_count": null,
   "id": "48230213-1542-4491-af67-081f264e88b9",
   "metadata": {},
   "outputs": [],
   "source": []
  },
  {
   "cell_type": "markdown",
   "id": "4eef87fe-af60-40f8-afeb-7e26f1d6a8c0",
   "metadata": {},
   "source": [
    "Q14. How do outliers affect measures of central tendency and dispersion? Provide an example."
   ]
  },
  {
   "cell_type": "code",
   "execution_count": 7,
   "id": "d2e3a35a-b8c9-4f4b-bb3d-e266489d3c66",
   "metadata": {},
   "outputs": [],
   "source": [
    "l = [100,80,70,40,30,100,65,20,50]\n"
   ]
  },
  {
   "cell_type": "code",
   "execution_count": 8,
   "id": "6db49baf-40ca-4145-bf72-936cc8eddcd6",
   "metadata": {},
   "outputs": [],
   "source": [
    "import pandas as pd\n",
    "series = pd.Series(l)"
   ]
  },
  {
   "cell_type": "code",
   "execution_count": 11,
   "id": "079390c3-3b8a-41e6-abb9-3c7eaa1fec01",
   "metadata": {},
   "outputs": [
    {
     "data": {
      "text/plain": [
       "61.666666666666664"
      ]
     },
     "execution_count": 11,
     "metadata": {},
     "output_type": "execute_result"
    }
   ],
   "source": [
    "series.mean()"
   ]
  },
  {
   "cell_type": "code",
   "execution_count": 10,
   "id": "d31a64ae-b2cc-4402-9936-0d1930aa5287",
   "metadata": {},
   "outputs": [
    {
     "data": {
      "text/plain": [
       "65.0"
      ]
     },
     "execution_count": 10,
     "metadata": {},
     "output_type": "execute_result"
    }
   ],
   "source": [
    "series.median()"
   ]
  },
  {
   "cell_type": "code",
   "execution_count": null,
   "id": "2a7babcf-75d4-4947-a157-1d544597d785",
   "metadata": {},
   "outputs": [],
   "source": []
  },
  {
   "cell_type": "markdown",
   "id": "6d504429-6d9e-4722-b840-7b246661b2c4",
   "metadata": {},
   "source": [
    "now adding a outlier"
   ]
  },
  {
   "cell_type": "code",
   "execution_count": 16,
   "id": "440b7f40-c143-4b81-9cdc-ec014edb1861",
   "metadata": {},
   "outputs": [],
   "source": [
    "l.append(1000)"
   ]
  },
  {
   "cell_type": "code",
   "execution_count": 17,
   "id": "997a404e-cfdd-4acb-9ab9-9dff707ae319",
   "metadata": {},
   "outputs": [],
   "source": [
    "series = pd.Series(l)"
   ]
  },
  {
   "cell_type": "code",
   "execution_count": 19,
   "id": "f714aaed-e3cd-493b-a65f-5b42aa195956",
   "metadata": {},
   "outputs": [
    {
     "data": {
      "text/plain": [
       "150.45454545454547"
      ]
     },
     "execution_count": 19,
     "metadata": {},
     "output_type": "execute_result"
    }
   ],
   "source": [
    "series.mean()"
   ]
  },
  {
   "cell_type": "code",
   "execution_count": 20,
   "id": "71bc6d97-b866-4030-82fc-8f160407810f",
   "metadata": {},
   "outputs": [
    {
     "data": {
      "text/plain": [
       "70.0"
      ]
     },
     "execution_count": 20,
     "metadata": {},
     "output_type": "execute_result"
    }
   ],
   "source": [
    "series.median()"
   ]
  },
  {
   "cell_type": "markdown",
   "id": "cdc6bf4d-f8a9-47f5-8822-47f8ca597792",
   "metadata": {},
   "source": [
    "As we can see their is huge difference between both mean that is before an outlier and after an outlier is added"
   ]
  },
  {
   "cell_type": "code",
   "execution_count": null,
   "id": "d902692e-e53f-4621-9023-ac308f403655",
   "metadata": {},
   "outputs": [],
   "source": []
  }
 ],
 "metadata": {
  "kernelspec": {
   "display_name": "Python 3 (ipykernel)",
   "language": "python",
   "name": "python3"
  },
  "language_info": {
   "codemirror_mode": {
    "name": "ipython",
    "version": 3
   },
   "file_extension": ".py",
   "mimetype": "text/x-python",
   "name": "python",
   "nbconvert_exporter": "python",
   "pygments_lexer": "ipython3",
   "version": "3.10.8"
  }
 },
 "nbformat": 4,
 "nbformat_minor": 5
}
